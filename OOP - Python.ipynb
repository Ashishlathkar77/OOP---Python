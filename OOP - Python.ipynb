{
 "cells": [
  {
   "cell_type": "markdown",
   "metadata": {},
   "source": [
    "### BASIC"
   ]
  },
  {
   "cell_type": "code",
   "execution_count": 1,
   "metadata": {},
   "outputs": [
    {
     "name": "stdout",
     "output_type": "stream",
     "text": [
      "i5, 10th gen, 16gb\n",
      "i5, 10th gen, 16gb\n",
      "i5, 10th gen, 16gb\n",
      "i5, 10th gen, 16gb\n"
     ]
    }
   ],
   "source": [
    "#computer is class i.e. it is blueprint or design to build some object (comp1 & comp2) \n",
    "\n",
    "class computer:\n",
    "    def config(self):                 #config is method & self and other passing parameters are attributes\n",
    "        print(\"i5, 10th gen, 16gb\")\n",
    "        \n",
    "comp1 = computer()            #comp1 & comp2 are objects  \n",
    "comp2 = computer()\n",
    "\n",
    "computer.config(comp1)\n",
    "computer.config(comp2)       #call by class containing function / method and passing object as paramter in self\n",
    "\n",
    "comp1.config()\n",
    "comp2.config()               #Now, comp1 and comp2 itself passing into config method in place of self"
   ]
  },
  {
   "cell_type": "code",
   "execution_count": 2,
   "metadata": {},
   "outputs": [
    {
     "data": {
      "text/plain": [
       "2"
      ]
     },
     "execution_count": 2,
     "metadata": {},
     "output_type": "execute_result"
    }
   ],
   "source": [
    "a = 2\n",
    "\n",
    "a.bit_length()          #?    no. of bits require to represent the given no. in binary"
   ]
  },
  {
   "cell_type": "markdown",
   "metadata": {},
   "source": [
    "### __init__ Method                  [SELF == passes OBJECT]"
   ]
  },
  {
   "cell_type": "code",
   "execution_count": 3,
   "metadata": {},
   "outputs": [
    {
     "name": "stdout",
     "output_type": "stream",
     "text": [
      "in init\n",
      "in init\n",
      "i5, 10th gen, 16gb\n",
      "i5, 10th gen, 16gb\n"
     ]
    }
   ],
   "source": [
    "class computer:\n",
    "    \n",
    "    def __init__(self):\n",
    "        print(\"in init\")           #you dont need to call init, it will automatically run with just calling our class, how many times you run class - it will execute that no of times\n",
    "        \n",
    "    def config(self):                \n",
    "        print(\"i5, 10th gen, 16gb\")\n",
    "        \n",
    "comp1 = computer()           \n",
    "comp2 = computer()\n",
    "\n",
    "\n",
    "comp1.config()\n",
    "comp2.config()              "
   ]
  },
  {
   "cell_type": "code",
   "execution_count": 4,
   "metadata": {},
   "outputs": [
    {
     "name": "stdout",
     "output_type": "stream",
     "text": [
      "Computer having: i5 16gb\n",
      "Computer having: Ryzen8 8gb\n"
     ]
    }
   ],
   "source": [
    "#Passing Parameters \n",
    "\n",
    "class computer:\n",
    "    \n",
    "    def __init__(self, cpu, RAM):\n",
    "        self.cpu = cpu\n",
    "        self.RAM = RAM                 #here self is our object that you passed [self is acting as a object comp1 or comp2]\n",
    "        \n",
    "    def config(self):                \n",
    "        print(\"Computer having:\", self.cpu, self.RAM)\n",
    "        \n",
    "comp1 = computer(\"i5\", \"16gb\")           \n",
    "comp2 = computer(\"Ryzen8\", \"8gb\")\n",
    "\n",
    "\n",
    "comp1.config()\n",
    "comp2.config()    "
   ]
  },
  {
   "cell_type": "code",
   "execution_count": 5,
   "metadata": {},
   "outputs": [
    {
     "name": "stdout",
     "output_type": "stream",
     "text": [
      "1691673963272\n",
      "1691674012872\n"
     ]
    }
   ],
   "source": [
    "class computer:\n",
    "    pass\n",
    "\n",
    "c1 = computer()\n",
    "c2 = computer()\n",
    "\n",
    "print(id(c1))        #------> Heap Memory Address of a object c1\n",
    "print(id(c2))"
   ]
  },
  {
   "cell_type": "code",
   "execution_count": 6,
   "metadata": {},
   "outputs": [
    {
     "name": "stdout",
     "output_type": "stream",
     "text": [
      "Rashi\n",
      "Ashish\n"
     ]
    }
   ],
   "source": [
    "class computer:\n",
    "    def __init__(self):\n",
    "        self.name = \"Ashish\"\n",
    "        self.age = 20\n",
    "\n",
    "c1 = computer()\n",
    "c2 = computer()\n",
    "\n",
    "c1.name = \"Rashi\"\n",
    "c1.age = 21\n",
    "\n",
    "print(c1.name)        \n",
    "print(c2.name)"
   ]
  },
  {
   "cell_type": "code",
   "execution_count": 7,
   "metadata": {},
   "outputs": [
    {
     "name": "stdout",
     "output_type": "stream",
     "text": [
      "Rashi\n",
      "22\n",
      "Ashish\n",
      "20\n"
     ]
    }
   ],
   "source": [
    "class computer:\n",
    "    \n",
    "    def __init__(self):\n",
    "        self.name = \"Ashish\"\n",
    "        self.age = 20\n",
    "    def update(self):\n",
    "        self.age = 22\n",
    "\n",
    "c1 = computer()\n",
    "c2 = computer()\n",
    "\n",
    "c1.name = \"Rashi\"\n",
    "c1.age = 21\n",
    "\n",
    "c1.update()\n",
    "\n",
    "print(c1.name)\n",
    "print(c1.age)\n",
    "print(c2.name)\n",
    "print(c2.age)"
   ]
  },
  {
   "cell_type": "code",
   "execution_count": 8,
   "metadata": {},
   "outputs": [
    {
     "name": "stdout",
     "output_type": "stream",
     "text": [
      "22 20\n",
      "They are not!\n"
     ]
    }
   ],
   "source": [
    "class computer:\n",
    "    \n",
    "    def __init__(self):\n",
    "        self.name = \"Ashish\"\n",
    "        self.age = 20\n",
    "        \n",
    "    def update(self):\n",
    "        self.age = 22\n",
    "        \n",
    "    def compare(self, c2):              #after calling this function, c1 is act as self and you can take any name instead of c2 like other, falana, dhimkana\n",
    "        if self.age == c2.age:\n",
    "            return True\n",
    "        return False\n",
    "        \n",
    "\n",
    "c1 = computer()\n",
    "c2 = computer()\n",
    "\n",
    "c1.name = \"Rashi\"\n",
    "c1.age = 21\n",
    "\n",
    "c1.update()\n",
    "\n",
    "print(c1.age, c2.age)\n",
    "\n",
    "#compare function : we are creating\n",
    "\n",
    "if c1.compare(c2):\n",
    "    print(\"They are same in age!\")\n",
    "else:\n",
    "    print(\"They are not!\")"
   ]
  },
  {
   "cell_type": "code",
   "execution_count": 9,
   "metadata": {},
   "outputs": [
    {
     "name": "stdout",
     "output_type": "stream",
     "text": [
      "BMW 8\n",
      "BMW 10\n"
     ]
    }
   ],
   "source": [
    "#Instance Variables and Class Variables\n",
    "\n",
    "class car:\n",
    "    \n",
    "    def __init__(self):\n",
    "        self.mil = 10\n",
    "        self.com = \"BMW\"   #Variables that belongs to init, are called instance variables that are accessible by objects only\n",
    "        \n",
    "c1 = car()\n",
    "c2 = car()\n",
    "\n",
    "c1.mil = 8\n",
    "\n",
    "print(c1.com, c1.mil)\n",
    "print(c2.com, c2.mil)"
   ]
  },
  {
   "cell_type": "code",
   "execution_count": 10,
   "metadata": {},
   "outputs": [
    {
     "name": "stdout",
     "output_type": "stream",
     "text": [
      "BMW 8 4\n",
      "BMW 10 4\n"
     ]
    }
   ],
   "source": [
    "class car:\n",
    "    \n",
    "    wheels = 4\n",
    "    \n",
    "    def __init__(self):\n",
    "        self.mil = 10\n",
    "        self.com = \"BMW\"   #Variables that belongs to init, are called instance variables that are accessible by objects only\n",
    "        \n",
    "c1 = car()\n",
    "c2 = car()\n",
    "\n",
    "c1.mil = 8\n",
    "\n",
    "print(c1.com, c1.mil, c1.wheels)\n",
    "print(c2.com, c2.mil, c2.wheels)"
   ]
  },
  {
   "cell_type": "code",
   "execution_count": 11,
   "metadata": {},
   "outputs": [
    {
     "name": "stdout",
     "output_type": "stream",
     "text": [
      "BMW 8 5\n",
      "BMW 10 5\n"
     ]
    }
   ],
   "source": [
    "class car:\n",
    "    \n",
    "    wheels = 4            #class variables i.e. belongs to outside of the init\n",
    "    \n",
    "    def __init__(self):\n",
    "        self.mil = 10\n",
    "        self.com = \"BMW\"   #Variables that belongs to init, are called instance variables that are accessible by objects only\n",
    "        \n",
    "c1 = car()\n",
    "c2 = car()\n",
    "\n",
    "c1.mil = 8\n",
    "car.wheels = 5          #if you want to do some changes into variable outside the init then we go with class name only\n",
    "\n",
    "print(c1.com, c1.mil, c1.wheels)\n",
    "print(c2.com, c2.mil, c2.wheels)"
   ]
  },
  {
   "cell_type": "code",
   "execution_count": 12,
   "metadata": {},
   "outputs": [
    {
     "name": "stdout",
     "output_type": "stream",
     "text": [
      "42.0\n",
      "36.0\n"
     ]
    }
   ],
   "source": [
    "class student:\n",
    "    \n",
    "    school = \"KVL\"\n",
    "    \n",
    "    def __init__(self, m1, m2, m3):\n",
    "        self.m1 = m1\n",
    "        self.m2 = m2\n",
    "        self.m3 = m3\n",
    "        \n",
    "    def avg(self):\n",
    "        return (self.m1 + self.m2 + self.m3) / 3\n",
    "    \n",
    "s1 = student(34, 42, 50)\n",
    "s2 = student(30, 40, 38)\n",
    "\n",
    "print(s1.avg())\n",
    "print(s2.avg())"
   ]
  },
  {
   "cell_type": "markdown",
   "metadata": {},
   "source": [
    "### Class Method"
   ]
  },
  {
   "cell_type": "code",
   "execution_count": 13,
   "metadata": {},
   "outputs": [
    {
     "name": "stdout",
     "output_type": "stream",
     "text": [
      "42.0\n",
      "KVL\n"
     ]
    }
   ],
   "source": [
    "#If you want to work with class function; then you have to pass cls instead of self \n",
    "\n",
    "class student:\n",
    "    \n",
    "    school = \"KVL\"\n",
    "    \n",
    "    def __init__(self, m1, m2, m3):\n",
    "        self.m1 = m1\n",
    "        self.m2 = m2\n",
    "        self.m3 = m3\n",
    "        \n",
    "    def avg(self):\n",
    "        return (self.m1 + self.m2 + self.m3) / 3\n",
    "    \n",
    "    @classmethod                 #working with class variables\n",
    "    def info(cls):\n",
    "        return cls.school      #if you want to work like this, then add decorator @\n",
    "    \n",
    "s1 = student(34, 42, 50)\n",
    "s2 = student(30, 40, 38)\n",
    "\n",
    "print(s1.avg())\n",
    "print(student.info())"
   ]
  },
  {
   "cell_type": "markdown",
   "metadata": {},
   "source": [
    "### Static Method"
   ]
  },
  {
   "cell_type": "code",
   "execution_count": 14,
   "metadata": {},
   "outputs": [
    {
     "name": "stdout",
     "output_type": "stream",
     "text": [
      "42.0\n",
      "KVL\n",
      "This is our class . . .\n",
      "None\n"
     ]
    }
   ],
   "source": [
    "class student:\n",
    "    \n",
    "    school = \"KVL\"\n",
    "    \n",
    "    def __init__(self, m1, m2, m3):\n",
    "        self.m1 = m1\n",
    "        self.m2 = m2\n",
    "        self.m3 = m3\n",
    "        \n",
    "    def avg(self):\n",
    "        return (self.m1 + self.m2 + self.m3) / 3\n",
    "    \n",
    "    @classmethod                \n",
    "    def info(cls):\n",
    "        return cls.school   \n",
    "    \n",
    "    @staticmethod                     #static method\n",
    "    def something():\n",
    "        print(\"This is our class . . .\")\n",
    "    \n",
    "s1 = student(34, 42, 50)\n",
    "s2 = student(30, 40, 38)\n",
    "\n",
    "print(s1.avg())\n",
    "print(student.info())\n",
    "print(student.something())"
   ]
  },
  {
   "cell_type": "markdown",
   "metadata": {},
   "source": [
    "### Inner Class"
   ]
  },
  {
   "cell_type": "code",
   "execution_count": 15,
   "metadata": {},
   "outputs": [
    {
     "name": "stdout",
     "output_type": "stream",
     "text": [
      "Ashish 7\n",
      "DELL i5 8\n",
      "None\n",
      "\n",
      "Nishant 28\n",
      "DELL i5 8\n",
      "None\n"
     ]
    }
   ],
   "source": [
    "class student:\n",
    "    \n",
    "    def __init__(self, name, rollno):\n",
    "        self.name = name\n",
    "        self.rollno = rollno\n",
    "        self.lap = self.Laptop()\n",
    "        \n",
    "    def show(self):\n",
    "        print(self.name, self.rollno)\n",
    "        self.lap.show()\n",
    "        \n",
    "    class Laptop:\n",
    "        \n",
    "        def __init__(self):\n",
    "            self.brand = \"DELL\"\n",
    "            self.cpu = 'i5'\n",
    "            self.ram = 8\n",
    "        def show(self):\n",
    "            print(self.brand, self.cpu, self.ram)\n",
    "            \n",
    "s1 = student('Ashish', 7)\n",
    "s2 = student('Nishant', 28)\n",
    "\n",
    "print(s1.show())\n",
    "print()\n",
    "print(s2.show())"
   ]
  },
  {
   "cell_type": "markdown",
   "metadata": {},
   "source": [
    "### Inheritance"
   ]
  },
  {
   "cell_type": "code",
   "execution_count": 16,
   "metadata": {},
   "outputs": [
    {
     "name": "stdout",
     "output_type": "stream",
     "text": [
      "Feature 2 working\n"
     ]
    }
   ],
   "source": [
    "#Single Level Inheritance\n",
    "\n",
    "class A:                   #--->Parent class / Supper Class\n",
    "    \n",
    "    def feature1(self):\n",
    "        print(\"Feature 1 working\")\n",
    "        \n",
    "    def feature2(self):\n",
    "        print(\"Feature 2 working\")\n",
    "        \n",
    "class B(A):                    #--->Child Class / Sub Class (It includes all the features of A as well)\n",
    "    \n",
    "    def feature3(self):\n",
    "        print(\"Feature 3 working\")\n",
    "        \n",
    "    def feature4(self):\n",
    "        print(\"Feature 4 working\")\n",
    "        \n",
    "a1 = A()\n",
    "\n",
    "b1 = B()\n",
    "\n",
    "b1.feature2()\n",
    "\n",
    "#Child can access all the stuff from its parent class"
   ]
  },
  {
   "cell_type": "code",
   "execution_count": 17,
   "metadata": {},
   "outputs": [
    {
     "name": "stdout",
     "output_type": "stream",
     "text": [
      "Feature 1 working\n"
     ]
    }
   ],
   "source": [
    "#Multiple Level Inheritance\n",
    "\n",
    "class A:                   #--->Parent class / Supper Class\n",
    "    \n",
    "    def feature1(self):\n",
    "        print(\"Feature 1 working\")\n",
    "        \n",
    "    def feature2(self):\n",
    "        print(\"Feature 2 working\")\n",
    "        \n",
    "class B(A):                    #--->Child Class / Sub Class (It includes all the features of A as well)\n",
    "    \n",
    "    def feature3(self):\n",
    "        print(\"Feature 3 working\")\n",
    "        \n",
    "    def feature4(self):\n",
    "        print(\"Feature 4 working\")\n",
    "        \n",
    "class C(B):\n",
    "    \n",
    "    def feature5(self):\n",
    "        print(\"Feature 5 working\")\n",
    "        \n",
    "\n",
    "c1 = C()            #It can access all the classes and their features \n",
    "\n",
    "c1.feature1()"
   ]
  },
  {
   "cell_type": "code",
   "execution_count": 18,
   "metadata": {},
   "outputs": [],
   "source": [
    "#or  ---> Another Approach but now B cant access anything about A and C"
   ]
  },
  {
   "cell_type": "code",
   "execution_count": 19,
   "metadata": {},
   "outputs": [
    {
     "name": "stdout",
     "output_type": "stream",
     "text": [
      "Feature 2 working\n"
     ]
    }
   ],
   "source": [
    "#Multiple Level Inheritance\n",
    "\n",
    "class A:                   #--->Parent class / Supper Class\n",
    "    \n",
    "    def feature1(self):\n",
    "        print(\"Feature 1 working\")\n",
    "        \n",
    "    def feature2(self):\n",
    "        print(\"Feature 2 working\")\n",
    "        \n",
    "class B:                    #--->Child Class / Sub Class (It includes all the features of A as well)\n",
    "    \n",
    "    def feature3(self):\n",
    "        print(\"Feature 3 working\")\n",
    "        \n",
    "    def feature4(self):\n",
    "        print(\"Feature 4 working\")\n",
    "        \n",
    "class C(A,B):\n",
    "    \n",
    "    def feature5(self):\n",
    "        print(\"Feature 5 working\")\n",
    "        \n",
    "\n",
    "c1 = C()            #It can access all the classes and their features \n",
    "\n",
    "c1.feature2()\n"
   ]
  },
  {
   "cell_type": "code",
   "execution_count": 20,
   "metadata": {},
   "outputs": [
    {
     "name": "stdout",
     "output_type": "stream",
     "text": [
      "In A init\n"
     ]
    }
   ],
   "source": [
    "##Constructor in Inheritance\n",
    "#child / sub class can access everything of super / parent class\n",
    "\n",
    "class A:    \n",
    "    \n",
    "    def __init__(self):\n",
    "        print(\"In A init\")\n",
    "    \n",
    "    def feature1(self):\n",
    "        print(\"Feature 1 working\")\n",
    "        \n",
    "    def feature2(self):\n",
    "        print(\"Feature 2 working\")\n",
    "        \n",
    "class B(A):                    \n",
    "    \n",
    "    def feature3(self):\n",
    "        print(\"Feature 3 working\")\n",
    "        \n",
    "    def feature4(self):\n",
    "        print(\"Feature 4 working\")\n",
    "        \n",
    "a1 = B()                   #It will call constructor of A (super class) with B class only"
   ]
  },
  {
   "cell_type": "code",
   "execution_count": 21,
   "metadata": {},
   "outputs": [
    {
     "name": "stdout",
     "output_type": "stream",
     "text": [
      "In B init\n"
     ]
    }
   ],
   "source": [
    "class A:    \n",
    "    \n",
    "    def __init__(self):\n",
    "        print(\"In A init\")\n",
    "    \n",
    "    def feature1(self):\n",
    "        print(\"Feature 1 working\")\n",
    "        \n",
    "    def feature2(self):\n",
    "        print(\"Feature 2 working\")\n",
    "        \n",
    "class B(A):      \n",
    "    \n",
    "    def __init__(self):\n",
    "        print(\"In B init\") #Now, it will only run constructor of class B, bcoz firstly it will find constructor in B if you dont have it then it will go for class A\n",
    "    \n",
    "    def feature3(self):\n",
    "        print(\"Feature 3 working\")\n",
    "        \n",
    "    def feature4(self):\n",
    "        print(\"Feature 4 working\")\n",
    "        \n",
    "a1 = B()"
   ]
  },
  {
   "cell_type": "code",
   "execution_count": 22,
   "metadata": {},
   "outputs": [
    {
     "name": "stdout",
     "output_type": "stream",
     "text": [
      "In A init\n",
      "In B init\n"
     ]
    }
   ],
   "source": [
    "class A:    \n",
    "    \n",
    "    def __init__(self):\n",
    "        print(\"In A init\")\n",
    "    \n",
    "    def feature1(self):\n",
    "        print(\"Feature 1 working\")\n",
    "        \n",
    "    def feature2(self):\n",
    "        print(\"Feature 2 working\")\n",
    "        \n",
    "class B(A):      \n",
    "    \n",
    "    def __init__(self):\n",
    "        \n",
    "        super().__init__() #It will call parent class with the help of super function; it can help us to run contructor of super class\n",
    "        \n",
    "        print(\"In B init\") \n",
    "    \n",
    "    def feature3(self):\n",
    "        print(\"Feature 3 working\")\n",
    "        \n",
    "    def feature4(self):\n",
    "        print(\"Feature 4 working\")\n",
    "        \n",
    "a1 = B()"
   ]
  },
  {
   "cell_type": "code",
   "execution_count": 23,
   "metadata": {},
   "outputs": [
    {
     "name": "stdout",
     "output_type": "stream",
     "text": [
      "In A init\n",
      "In C init\n"
     ]
    }
   ],
   "source": [
    "class A:   \n",
    "    \n",
    "    def __init__(self):\n",
    "        print(\"In A init\")\n",
    "    \n",
    "    def feature1(self):\n",
    "        print(\"Feature 1 working\")\n",
    "        \n",
    "    def feature2(self):\n",
    "        print(\"Feature 2 working\")\n",
    "        \n",
    "class B:   \n",
    "    \n",
    "    def __init__(self):\n",
    "        print(\"In B init\")\n",
    "    \n",
    "    def feature3(self):\n",
    "        print(\"Feature 3 working\")\n",
    "        \n",
    "    def feature4(self):\n",
    "        print(\"Feature 4 working\")\n",
    "        \n",
    "class C(A,B):\n",
    "    \n",
    "    def __init__(self):\n",
    "        super().__init__()            #left to right \n",
    "        print(\"In C init\")\n",
    "    \n",
    "    def feature5(self):\n",
    "        print(\"Feature 5 working\")\n",
    "        \n",
    "\n",
    "a1 = C()"
   ]
  },
  {
   "cell_type": "markdown",
   "metadata": {},
   "source": [
    "### Polymorphism"
   ]
  },
  {
   "cell_type": "markdown",
   "metadata": {},
   "source": [
    "#### -------> (1) : Duck Typing\n",
    "#### -------> (2) : Operator Overloading\n",
    "#### -------> (3) : Method Overloading\n",
    "#### -------> (4) : Method Overriding"
   ]
  },
  {
   "cell_type": "code",
   "execution_count": 24,
   "metadata": {},
   "outputs": [],
   "source": [
    "# (1) Duck Typing"
   ]
  },
  {
   "cell_type": "code",
   "execution_count": 25,
   "metadata": {},
   "outputs": [
    {
     "name": "stdout",
     "output_type": "stream",
     "text": [
      "Compiling\n",
      "Running\n"
     ]
    }
   ],
   "source": [
    "class pycharm:\n",
    "    \n",
    "    def execute(self):\n",
    "        print(\"Compiling\")\n",
    "        print(\"Running\")\n",
    "\n",
    "class Laptop:\n",
    "    \n",
    "        \n",
    "    def code(self, ide):\n",
    "        ide.execute()\n",
    "        \n",
    "ide = pycharm()\n",
    "\n",
    "lap1 = Laptop()\n",
    "lap1.code(ide)"
   ]
  },
  {
   "cell_type": "code",
   "execution_count": 26,
   "metadata": {},
   "outputs": [
    {
     "name": "stdout",
     "output_type": "stream",
     "text": [
      "Spell check\n",
      "Convention check\n",
      "Compiling\n",
      "Running\n"
     ]
    }
   ],
   "source": [
    "class myeditor:\n",
    "    \n",
    "    def execute(self):\n",
    "        print(\"Spell check\")\n",
    "        print(\"Convention check\")\n",
    "        print(\"Compiling\")\n",
    "        print(\"Running\")\n",
    "\n",
    "class pycharm:\n",
    "    \n",
    "    def execute(self):\n",
    "        print(\"Compiling\")\n",
    "        print(\"Running\")\n",
    "\n",
    "class Laptop:\n",
    "    \n",
    "        \n",
    "    def code(self, ide):\n",
    "        ide.execute()\n",
    "        \n",
    "ide = myeditor()\n",
    "\n",
    "lap1 = Laptop()\n",
    "lap1.code(ide)"
   ]
  },
  {
   "cell_type": "code",
   "execution_count": 27,
   "metadata": {},
   "outputs": [],
   "source": [
    "# (2) Operator Overloading"
   ]
  },
  {
   "cell_type": "code",
   "execution_count": 28,
   "metadata": {},
   "outputs": [
    {
     "name": "stdout",
     "output_type": "stream",
     "text": [
      "7\n"
     ]
    },
    {
     "data": {
      "text/plain": [
       "7"
      ]
     },
     "execution_count": 28,
     "metadata": {},
     "output_type": "execute_result"
    }
   ],
   "source": [
    "a = 5\n",
    "b = 2\n",
    "\n",
    "print(a+b)\n",
    "\n",
    "int.__add__(a, b)"
   ]
  },
  {
   "cell_type": "code",
   "execution_count": 29,
   "metadata": {},
   "outputs": [
    {
     "data": {
      "text/plain": [
       "'Ashish Lathkar'"
      ]
     },
     "execution_count": 29,
     "metadata": {},
     "output_type": "execute_result"
    }
   ],
   "source": [
    "a = \"Ashish \"\n",
    "b = \"Lathkar\"\n",
    "\n",
    "str.__add__(a, b)"
   ]
  },
  {
   "cell_type": "code",
   "execution_count": 30,
   "metadata": {},
   "outputs": [],
   "source": [
    "# (3) & (4)"
   ]
  },
  {
   "cell_type": "code",
   "execution_count": 31,
   "metadata": {},
   "outputs": [],
   "source": [
    "class student:\n",
    "    \n",
    "    def __init__(self, m1, m2):\n",
    "        self.m1 = m1\n",
    "        self.m2 = m2\n",
    "        \n",
    "    def __add__(self, other):\n",
    "        m1 = self.m1 + other.m1\n",
    "        m2 = self.m2 + other.m2\n",
    "        s3 = student(m1, m2)\n",
    "        \n",
    "        return s3\n",
    "    \n",
    "s1 = student(58, 45)\n",
    "s2 = student(60, 50)\n",
    "\n",
    "s3 = s1 + s2\n",
    "\n",
    "\n",
    "        "
   ]
  },
  {
   "cell_type": "code",
   "execution_count": 32,
   "metadata": {},
   "outputs": [
    {
     "name": "stdout",
     "output_type": "stream",
     "text": [
      "S2 wins\n"
     ]
    }
   ],
   "source": [
    "class student:\n",
    "    \n",
    "    def __init__(self, m1, m2):\n",
    "        self.m1 = m1\n",
    "        self.m2 = m2\n",
    "        \n",
    "    def __add__(self, other):\n",
    "        m1 = self.m1 + other.m1\n",
    "        m2 = self.m2 + other.m2\n",
    "        s3 = student(m1, m2)\n",
    "        \n",
    "        return s3\n",
    "    \n",
    "    def __gt__(self, other):\n",
    "        r1 = self.m1 + self.m2\n",
    "        r2 = other.m1 + other.m2\n",
    "        if r1 > r2:\n",
    "            return True\n",
    "        else:\n",
    "            return False\n",
    "    \n",
    "s1 = student(58, 45)\n",
    "s2 = student(60, 50)\n",
    "\n",
    "s3 = s1 + s2\n",
    "\n",
    "if s1 > s2:\n",
    "    print(\"S1 wins\")\n",
    "else:\n",
    "    print(\"S2 wins\")"
   ]
  },
  {
   "cell_type": "code",
   "execution_count": 33,
   "metadata": {},
   "outputs": [],
   "source": [
    "#Method Overloading & Method Overriding"
   ]
  },
  {
   "cell_type": "code",
   "execution_count": 34,
   "metadata": {},
   "outputs": [
    {
     "name": "stdout",
     "output_type": "stream",
     "text": [
      "14\n"
     ]
    }
   ],
   "source": [
    "class student:\n",
    "    \n",
    "    def __init__(self, m1, m2):\n",
    "        self.m1 = m1\n",
    "        self.m2 = m2\n",
    "        \n",
    "    def sum(self, a, b):\n",
    "        s = a+b\n",
    "        \n",
    "        return s\n",
    "    \n",
    "s1 = student(58, 69)\n",
    "\n",
    "print(s1.sum(5, 9))"
   ]
  },
  {
   "cell_type": "code",
   "execution_count": 36,
   "metadata": {},
   "outputs": [
    {
     "name": "stdout",
     "output_type": "stream",
     "text": [
      "17\n"
     ]
    }
   ],
   "source": [
    "#Method Overloading\n",
    "\n",
    "class student:\n",
    "    \n",
    "    def __init__(self, m1, m2):\n",
    "        self.m1 = m1\n",
    "        self.m2 = m2\n",
    "        \n",
    "    def sum(self, a=None, b=None, c=None):\n",
    "        s = a+b+c\n",
    "        \n",
    "        return s\n",
    "    \n",
    "s1 = student(58, 69)\n",
    "\n",
    "print(s1.sum(5, 9, 3))"
   ]
  },
  {
   "cell_type": "code",
   "execution_count": 42,
   "metadata": {},
   "outputs": [
    {
     "name": "stdout",
     "output_type": "stream",
     "text": [
      "in B show\n"
     ]
    }
   ],
   "source": [
    "#Method Overriding\n",
    "\n",
    "class A:\n",
    "    \n",
    "    def show(self):\n",
    "        print(\"in A show\")\n",
    "        \n",
    "class B(A):\n",
    "    \n",
    "    def show(self):\n",
    "        print(\"in B show\")\n",
    "        \n",
    "a1 = B()\n",
    "a1.show()"
   ]
  },
  {
   "cell_type": "code",
   "execution_count": null,
   "metadata": {},
   "outputs": [],
   "source": []
  }
 ],
 "metadata": {
  "kernelspec": {
   "display_name": "Python 3",
   "language": "python",
   "name": "python3"
  },
  "language_info": {
   "codemirror_mode": {
    "name": "ipython",
    "version": 3
   },
   "file_extension": ".py",
   "mimetype": "text/x-python",
   "name": "python",
   "nbconvert_exporter": "python",
   "pygments_lexer": "ipython3",
   "version": "3.7.6"
  }
 },
 "nbformat": 4,
 "nbformat_minor": 4
}
